{
 "cells": [
  {
   "cell_type": "markdown",
   "id": "81c66046-1ece-450d-8227-327bf7ded59f",
   "metadata": {},
   "source": [
    "# Data Science Tools and Ecosystem"
   ]
  },
  {
   "cell_type": "markdown",
   "id": "eb90baa8-ad3c-41fc-8bab-8cd8e4d63b4d",
   "metadata": {},
   "source": [
    "In this notebook, Data Science Tools and Ecosystems are summarized."
   ]
  },
  {
   "cell_type": "markdown",
   "id": "275d2e8b-27b9-4e65-8339-b4608c9ac841",
   "metadata": {},
   "source": [
    "**Objectives:**\n",
    "* List popular languages for Data Science.\n",
    "* List popular libraries for Data Science.\n",
    "* Create a table in Markdown.\n",
    "* Compute some examples of basic arithmetic in Python."
   ]
  },
  {
   "cell_type": "markdown",
   "id": "c9f9398e-fdde-4c6b-9302-111d9834b4f5",
   "metadata": {},
   "source": [
    "Some of the popular languages that Data Science use are:\n",
    "* Python\n",
    "* R\n",
    "* Julia"
   ]
  },
  {
   "cell_type": "markdown",
   "id": "6569838a-815e-402a-b8ab-9d105b6b20e9",
   "metadata": {},
   "source": [
    "Some of the commonly used libraries used by Data Scientists include:\n",
    "* Pandas\n",
    "* PyTorch\n",
    "* TensorFlow\n",
    "* ggplot2"
   ]
  },
  {
   "cell_type": "markdown",
   "id": "b8d37a4a-1421-488c-a02d-540c8933b5e7",
   "metadata": {},
   "source": [
    "|Data Science Tools|\n",
    "|------------------|\n",
    "|Jupyter Notebook|\n",
    "|Jupyter Lab|\n",
    "|RStduio|"
   ]
  },
  {
   "cell_type": "markdown",
   "id": "85ebe16e-05a9-49d7-b991-aedc6e26580f",
   "metadata": {},
   "source": [
    "### Below are a few examples of evaluating arithmetic expressions in Python."
   ]
  },
  {
   "cell_type": "code",
   "execution_count": 3,
   "id": "0f648cf9-6175-4d25-aedf-3410adab7a2d",
   "metadata": {},
   "outputs": [
    {
     "data": {
      "text/plain": [
       "17"
      ]
     },
     "execution_count": 3,
     "metadata": {},
     "output_type": "execute_result"
    }
   ],
   "source": [
    "# This is a simple arithmetic expressionto multiply then add integers\n",
    "(3*4)+5"
   ]
  },
  {
   "cell_type": "code",
   "execution_count": 4,
   "id": "17e45127-d957-41ec-b0ad-8d88e8e72bd2",
   "metadata": {},
   "outputs": [
    {
     "data": {
      "text/plain": [
       "3.3333333333333335"
      ]
     },
     "execution_count": 4,
     "metadata": {},
     "output_type": "execute_result"
    }
   ],
   "source": [
    "# This will convert 200 minutso to hours by dividing by 60\n",
    "200/60"
   ]
  },
  {
   "cell_type": "markdown",
   "id": "215f7bc1-beba-4c1a-ae87-241ecb4ec91b",
   "metadata": {},
   "source": [
    "## Author:\n",
    "Pedro Hernández"
   ]
  }
 ],
 "metadata": {
  "kernelspec": {
   "display_name": "Python 3 (ipykernel)",
   "language": "python",
   "name": "python3"
  },
  "language_info": {
   "codemirror_mode": {
    "name": "ipython",
    "version": 3
   },
   "file_extension": ".py",
   "mimetype": "text/x-python",
   "name": "python",
   "nbconvert_exporter": "python",
   "pygments_lexer": "ipython3",
   "version": "3.10.8"
  }
 },
 "nbformat": 4,
 "nbformat_minor": 5
}
